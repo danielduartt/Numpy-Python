{
  "nbformat": 4,
  "nbformat_minor": 0,
  "metadata": {
    "colab": {
      "provenance": [],
      "authorship_tag": "ABX9TyPjjJgHAk2SmFfKCF3Ux8Ec",
      "include_colab_link": true
    },
    "kernelspec": {
      "name": "python3",
      "display_name": "Python 3"
    },
    "language_info": {
      "name": "python"
    }
  },
  "cells": [
    {
      "cell_type": "markdown",
      "metadata": {
        "id": "view-in-github",
        "colab_type": "text"
      },
      "source": [
        "<a href=\"https://colab.research.google.com/github/danielduartt/Numpy-Python/blob/main/2_Indexa%C3%A7%C3%A3o_e_cortes.ipynb\" target=\"_parent\"><img src=\"https://colab.research.google.com/assets/colab-badge.svg\" alt=\"Open In Colab\"/></a>"
      ]
    },
    {
      "cell_type": "code",
      "execution_count": 2,
      "metadata": {
        "id": "xnTjcLD-nMrw"
      },
      "outputs": [],
      "source": [
        "import numpy as np\n"
      ]
    },
    {
      "cell_type": "markdown",
      "source": [
        "##**Indexação e Cortes (Slices) de Arrays**\n"
      ],
      "metadata": {
        "id": "a5W6KHhKn7ej"
      }
    },
    {
      "cell_type": "markdown",
      "source": [
        "\n",
        "\n",
        "*   Acessando Valores e alterando\n",
        "\n"
      ],
      "metadata": {
        "id": "LW_0xMrPoH15"
      }
    },
    {
      "cell_type": "code",
      "source": [
        "#array unidimensional\n",
        "a = np.arange(10, 21)\n",
        "print(a)\n",
        "print(a[0])\n",
        "print(a[-1])\n",
        "print('~'*60)\n",
        "#array bidimensional\n",
        "b = np.random.rand(5,5) # 5 x 5\n",
        "print(\"primeira linha: \", b[0]) #retorna a linhas inteira\n",
        "print(\"[1,1]: \", b[0][0]) #primeiro valor na primeira coluna e primeira linha )\n",
        "b[0][1] = 10 # ou b[0, 1] = 10\n",
        "print(\"Alteração: \", b[0])\n"
      ],
      "metadata": {
        "colab": {
          "base_uri": "https://localhost:8080/"
        },
        "id": "_nhPuIi2oLy0",
        "outputId": "630d9f7b-c433-4a6e-e9cd-bb139e5e686f"
      },
      "execution_count": 22,
      "outputs": [
        {
          "output_type": "stream",
          "name": "stdout",
          "text": [
            "[10 11 12 13 14 15 16 17 18 19 20]\n",
            "10\n",
            "20\n",
            "~~~~~~~~~~~~~~~~~~~~~~~~~~~~~~~~~~~~~~~~~~~~~~~~~~~~~~~~~~~~\n",
            "primeira linha:  [0.84419416 0.08888252 0.2304312  0.03004694 0.87966361]\n",
            "[1,1]:  0.8441941614774505\n",
            "Alteração:  [ 0.84419416 10.          0.2304312   0.03004694  0.87966361]\n"
          ]
        }
      ]
    },
    {
      "cell_type": "markdown",
      "source": [
        "\n",
        "\n",
        "*   Slice = corte de um array\n",
        "\n",
        "\n"
      ],
      "metadata": {
        "id": "zngCmJtUqOcF"
      }
    },
    {
      "cell_type": "code",
      "source": [
        "#Array Unidimensional ou de N dimensões\n",
        "a = np.arange(10, 21)\n",
        "print(a)\n",
        "print(\"-------------------------------------------\")\n",
        "print(a[2: 5]) # vai da posição 2 até a 4, posso passar o passo tbm (star : stop - 1: step)\n",
        "print(\"-------------------------------------------\")\n",
        "print(a[2: 9: 2]) # do 2 até o 8 pulando de 2 em 2\n",
        "print(\"-------------------------------------------\")\n",
        "print(a[:5]) # 0 até a 4\n",
        "print(\"-------------------------------------------\")\n",
        "print(a[2:]) # 2 até o final do array\n",
        "print(\"-------------------------------------------\")\n",
        "print(a[:]) # array inteiro\n",
        "print()\n",
        "print(\"----------------Array Bidimensional------------------\")\n",
        "b = np.random.rand(5, 5)\n",
        "print(b)\n",
        "print(\"-------------------------------------------\")\n",
        "print(b[0:2]) # b[x : y, z], x e y então relacionados as linhas, o z é referente a coluna, caso não coloque nada\n",
        "             # pega todas. Nesse caso estou pegando as duas primeira linhas com todas as colunas\n",
        "print(\"-------------------------------------------\")\n",
        "print(b[0 : 2, 3]) # aqui estou pegando a primeira e a segunda linha da colunas 3\n",
        "\n",
        "\n",
        "\n"
      ],
      "metadata": {
        "colab": {
          "base_uri": "https://localhost:8080/"
        },
        "id": "HD-gOBQLqSaV",
        "outputId": "659f52e6-08e3-4205-f6f6-68c031320492"
      },
      "execution_count": 29,
      "outputs": [
        {
          "output_type": "stream",
          "name": "stdout",
          "text": [
            "[10 11 12 13 14 15 16 17 18 19 20]\n",
            "-------------------------------------------\n",
            "[12 13 14]\n",
            "-------------------------------------------\n",
            "[12 14 16 18]\n",
            "-------------------------------------------\n",
            "[10 11 12 13 14]\n",
            "-------------------------------------------\n",
            "[12 13 14 15 16 17 18 19 20]\n",
            "-------------------------------------------\n",
            "[10 11 12 13 14 15 16 17 18 19 20]\n",
            "\n",
            "----------------Array Bidimensional------------------\n",
            "[[0.30986531 0.15683027 0.14350612 0.65229845 0.66088942]\n",
            " [0.36444447 0.13656393 0.61536857 0.43706413 0.19637343]\n",
            " [0.92055165 0.51382146 0.47659244 0.43959646 0.83715014]\n",
            " [0.5387265  0.89883816 0.76757271 0.13073469 0.6717771 ]\n",
            " [0.35634688 0.13227189 0.13043834 0.33787984 0.3070074 ]]\n",
            "-------------------------------------------\n",
            "[[0.30986531 0.15683027 0.14350612 0.65229845 0.66088942]\n",
            " [0.36444447 0.13656393 0.61536857 0.43706413 0.19637343]]\n",
            "-------------------------------------------\n",
            "[0.65229845 0.43706413]\n"
          ]
        }
      ]
    }
  ]
}